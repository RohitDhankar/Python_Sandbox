{
 "cells": [
  {
   "cell_type": "code",
   "execution_count": 8,
   "metadata": {
    "collapsed": false
   },
   "outputs": [
    {
     "name": "stdout",
     "output_type": "stream",
     "text": [
      "('14//7.1=', 1.0)\n",
      "('107//4.2=', 25.0)\n",
      "('107/4.2=', 25.476190476190474)\n",
      "('107//4.5=', 23.0)\n",
      "('107/4.5=', 23.77777777777778)\n"
     ]
    }
   ],
   "source": [
    "# C:\\Anaconda2\\envs\\_____________CFE_eCOM\\____________BooksOwn\n",
    "# Page 30 ---- Python Absolute Beginner Book - 1\n",
    "# Integer Division \n",
    "\n",
    "print (\"14//7.1=\" ,14//7.1) # Integer Division - Answer is ROUNDED OFF \n",
    "#\n",
    "print (\"107//4.2=\" ,107//4.2) # Integer Division - Answer is ROUNDED OFF \n",
    "#\n",
    "print (\"107/4.2=\" ,107/4.2) # Normal Division \n",
    "#\n",
    "print (\"107//4.5=\" ,107//4.5) # Integer Division - Answer is ROUNDED OFF \n",
    "#\n",
    "print (\"107/4.5=\" ,107/4.5) # Normal Division \n",
    "#"
   ]
  },
  {
   "cell_type": "code",
   "execution_count": 5,
   "metadata": {
    "collapsed": false
   },
   "outputs": [
    {
     "name": "stdout",
     "output_type": "stream",
     "text": [
      "('700% 30 = ', 10)\n",
      "('700//30=', 23)\n"
     ]
    }
   ],
   "source": [
    "# Modulus Operator -- Remainder of the Integer Division \n",
    "#\n",
    "print(\"700% 30 = \",700% 30)\n",
    "# Which is -- \n",
    "print(\"700//30=\",700//30)\n",
    "#\n"
   ]
  },
  {
   "cell_type": "code",
   "execution_count": 11,
   "metadata": {
    "collapsed": false
   },
   "outputs": [
    {
     "name": "stdout",
     "output_type": "stream",
     "text": [
      "155\n",
      "310\n",
      "103\n"
     ]
    }
   ],
   "source": [
    "# Augmented Assignment Operator == AAO's \n",
    "# The -- \"+=\" \"*=\" \"/=\" are all AAO's \n",
    "# the AAO -- carries out an OPERATION such as Multiplication and Assigns back value to same variable. \n",
    "\n",
    "count = 44\n",
    "\n",
    "count+=111\n",
    "\n",
    "print count\n",
    "\n",
    "count*=2\n",
    "\n",
    "print count \n",
    "\n",
    "count/=3\n",
    "\n",
    "print count "
   ]
  },
  {
   "cell_type": "code",
   "execution_count": 45,
   "metadata": {
    "collapsed": false
   },
   "outputs": [
    {
     "name": "stdout",
     "output_type": "stream",
     "text": [
      "Dice 1 : 3\n",
      "Dice 2 : 69\n",
      "Dice 1 : 1\n",
      "Dice 2 : 72\n",
      "Dice 1 : 4\n",
      "Dice 2 : 26\n",
      "Dice 1 : 2\n",
      "Dice 2 : 90\n",
      "Dice 1 : 3\n",
      "Dice 2 : 64\n"
     ]
    }
   ],
   "source": [
    "# Random Numbers - Dice Rolls \n",
    "\n",
    "import random \n",
    "\n",
    "for i in range(1,6):            # range(0,6) -- gives 6 Values , range(1,6) -- gives 5 Values\n",
    "    dice1 = random.randint(1,6) # randomDOTrandint example of DOT NOTATION - Chained Function with Module Name\n",
    "    print \"Dice 1 :\" , dice1    # randint -- Returns Random Values INCLUDING 2 Given Values \n",
    "    #\n",
    "    dice2 = random.randrange(10,99)\n",
    "    print \"Dice 2 :\" , dice2    # randrange -- Returns Random Integer Values NOT INCLUDING 1 Given Integer Value \n",
    "    \n",
    "# "
   ]
  }
 ],
 "metadata": {
  "kernelspec": {
   "display_name": "Python [default]",
   "language": "python",
   "name": "python2"
  },
  "language_info": {
   "codemirror_mode": {
    "name": "ipython",
    "version": 2
   },
   "file_extension": ".py",
   "mimetype": "text/x-python",
   "name": "python",
   "nbconvert_exporter": "python",
   "pygments_lexer": "ipython2",
   "version": "2.7.12"
  }
 },
 "nbformat": 4,
 "nbformat_minor": 0
}
