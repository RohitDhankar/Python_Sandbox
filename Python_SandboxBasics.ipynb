{
 "cells": [
  {
   "cell_type": "code",
   "execution_count": null,
   "metadata": {
    "collapsed": true
   },
   "outputs": [],
   "source": [
    "\"\"\"\n",
    "Basic Code Examples from various sources - sources mostly quoted / cited as is . In case you see anything Not Sighted or any \\\n",
    "kind of Copyright violations - holler...https://www.linkedin.com/in/rohitdhankar\n",
    "\n",
    "\"\"\""
   ]
  },
  {
   "cell_type": "code",
   "execution_count": 22,
   "metadata": {
    "collapsed": false
   },
   "outputs": [
    {
     "name": "stdout",
     "output_type": "stream",
     "text": [
      "[0, 1, 2, 3, 4, 5]\n"
     ]
    }
   ],
   "source": [
    "# RANGE Function Reminder \n",
    "# range(x,y)  = [ x....y-1] a simple list with values including x but not including y - only upto y-1. \n",
    "\n",
    "MyRange = range(0,6)\n",
    "print MyRange \n",
    "# [0, 1, 2, 3, 4, 5]\n",
    "\n"
   ]
  },
  {
   "cell_type": "code",
   "execution_count": 7,
   "metadata": {
    "collapsed": false
   },
   "outputs": [
    {
     "name": "stdout",
     "output_type": "stream",
     "text": [
      "William\n",
      "25\n",
      "London\n"
     ]
    }
   ],
   "source": [
    "\n",
    "\n",
    "#Data Structures\n",
    "# DICTS = Dictionaries \n",
    "# No Internal order-  can be any Key:Value Pairs in any Order \n",
    "\n",
    "\n",
    "\n",
    "#MyDict= {'name':'William', 'age':25, 'city':'London'}\n",
    "\n",
    "MyDict= {'age':25, 'city':'London','name':'William'}   # Age comes First -- name Comes Last \n",
    "\n",
    "#MyDict= {'name':'William', 'age':25, 'city':'London'} # Any Internal Order is OK \n",
    "\n",
    "print MyDict[\"name\"]\n",
    "#\n",
    "print MyDict[\"age\"]\n",
    "#\n",
    "print MyDict[\"city\"]\n",
    "#"
   ]
  },
  {
   "cell_type": "code",
   "execution_count": 8,
   "metadata": {
    "collapsed": false
   },
   "outputs": [
    {
     "name": "stdout",
     "output_type": "stream",
     "text": [
      "('city', 'London')\n",
      "('age', 25)\n",
      "('name', 'William')\n"
     ]
    }
   ],
   "source": [
    "#Data Structures\n",
    "# DICTS = Dictionaries \n",
    "\n",
    "# To ITERATE through a DICT -- # we use the FOR-IN CONSTRUCT \n",
    "# We actually end up using the terms - KEY and VALUE \n",
    "\n",
    "for key, value in MyDict.items():\n",
    "    print (key,value)\n",
    "    #\n",
    "    "
   ]
  },
  {
   "cell_type": "code",
   "execution_count": 2,
   "metadata": {
    "collapsed": false
   },
   "outputs": [
    {
     "name": "stdout",
     "output_type": "stream",
     "text": [
      "6\n",
      "7\n",
      "8\n",
      "9\n",
      "[7, 8, 9]\n",
      "[6, 7, 8, 9]\n",
      "[6, 7, 8, 9]\n",
      "[6, 7, 8, 9]\n",
      "[6, 7, 8]\n",
      "[6, 7]\n"
     ]
    }
   ],
   "source": [
    "#Data Structures\n",
    "# LIST\n",
    "\n",
    "# data structure that contains a number of objects in a precise order to form a sequence to which elements can be added and removed.\n",
    "# Each item is marked with a number corresponding to the order of the sequence, called index.\n",
    "\n",
    "# to access individual elements - sufficient to specify - index in square brackets\n",
    "\n",
    "MyList = [ 6,7,8,9]\n",
    "\n",
    "print MyList[0]\n",
    "print MyList[1]\n",
    "print MyList[2]\n",
    "print MyList[3]\n",
    "print MyList[1:4]\n",
    "print MyList[0:4]\n",
    "print MyList[0:5]\n",
    "print MyList[0:6]\n",
    "print MyList[0:-1]\n",
    "print MyList[0:-2]\n",
    "\n",
    "# print MyList[4] # Gives -- IndexError: list index out of range\n",
    "# as there is No List Index beyond [3] \n",
    "#\n",
    "# BUT the print MyList[1:4] Works OK as 1:4 is the RANGE and RANGE is calculated EXCLUSIVE of i:j Values \n",
    "# ALSO - print MyList[0:6] Works OK -- WHY ??? Should 6 also not be ---  IndexError: list index out of range ?? \n"
   ]
  },
  {
   "cell_type": "code",
   "execution_count": 3,
   "metadata": {
    "collapsed": false
   },
   "outputs": [
    {
     "name": "stdout",
     "output_type": "stream",
     "text": [
      "6\n",
      "7\n",
      "8\n",
      "9\n"
     ]
    }
   ],
   "source": [
    "# To SCAN or Print out All ELEMENTS of a LIST \n",
    "# we use the FOR-IN CONSTRUCT \n",
    "\n",
    "for element in MyList:\n",
    "    print element\n",
    "    element+1\n",
    "    \n",
    "    # Here if we called the - element a MONKEY - it would still work A Ok :) \n",
    "    # \n",
    "    "
   ]
  },
  {
   "cell_type": "code",
   "execution_count": 6,
   "metadata": {
    "collapsed": false
   },
   "outputs": [
    {
     "name": "stdout",
     "output_type": "stream",
     "text": [
      "[7, 8, 9, 10]\n",
      " Printing again below -- Incremented List using LAMBDA and no INC function now ...LAMBDA is an UN-NAMED function \n",
      "[7, 8, 9, 10]\n"
     ]
    },
    {
     "data": {
      "text/plain": [
       "'\\nLambda expressions (sometimes called lambda forms) have the same syntactic position as expressions. \\nThey are a shorthand to create anonymous functions; the expression lambda arguments: expression yields a function object.\\n\\ndef name(arguments):\\n    return expression\\n'"
      ]
     },
     "execution_count": 6,
     "metadata": {},
     "output_type": "execute_result"
    }
   ],
   "source": [
    "# \n",
    "# The MAP and LAMBDA -- https://docs.python.org/2/reference/expressions.html\n",
    "# https://docs.python.org/2/reference/expressions.html#lambda\n",
    "#\n",
    "\n",
    "# Write a Function INC to increment the MyList \n",
    "def inc(x):\n",
    "    return (x+1)\n",
    "\n",
    "MyList2=list(map(inc,MyList))\n",
    "print MyList2\n",
    "#\n",
    "\n",
    "print \" Printing again below -- Incremented List using LAMBDA and no INC function now ...LAMBDA is an UN-NAMED function \"\n",
    "\n",
    "MyList3=list(map((lambda x: x+1),MyList))\n",
    "print MyList3\n",
    "#\n",
    "\n",
    "'''\n",
    "Lambda expressions (sometimes called lambda forms) have the same syntactic position as expressions. \n",
    "They are a shorthand to create anonymous functions; the expression lambda arguments: expression yields a function object.\n",
    "\n",
    "def name(arguments):\n",
    "    return expression\n",
    "'''"
   ]
  },
  {
   "cell_type": "code",
   "execution_count": 18,
   "metadata": {
    "collapsed": false
   },
   "outputs": [
    {
     "name": "stdout",
     "output_type": "stream",
     "text": [
      "Result of Filter:- [6, 9]\n"
     ]
    },
    {
     "data": {
      "text/plain": [
       "'\\nSource --  http://www.secnetix.de/olli/Python/lambda_functions.hawk\\n#\\n \\nfilter() calls our lambda function for each element of the list, and returns a new list that \\ncontains only those elements for which the function returned \"True\". In this case, we get a list of all elements that\\nare multiples of 3. The expression x % 3 == 0 computes \\nthe remainder of x divided by 3 and compares the result with 0 (which is true if x is evenly divisible by 3).\\n'"
      ]
     },
     "execution_count": 18,
     "metadata": {},
     "output_type": "execute_result"
    }
   ],
   "source": [
    "# FILTER , MAP and Reduce \n",
    "# Excellent explanation here -- http://www.secnetix.de/olli/Python/lambda_functions.hawk\n",
    "#\n",
    "\n",
    "#from functools import reduce \n",
    "\n",
    "MyFilt=filter((lambda x: x%3==0 ),MyList)\n",
    "print \"Result of Filter:-\" , MyFilt\n",
    "#\n",
    "\n",
    "'''\n",
    "Source --  http://www.secnetix.de/olli/Python/lambda_functions.hawk\n",
    "#\n",
    " \n",
    "filter() calls our lambda function for each element of the list, and returns a new list that \n",
    "contains only those elements for which the function returned \"True\". In this case, we get a list of all elements that\n",
    "are multiples of 3. The expression x % 3 == 0 computes \n",
    "the remainder of x divided by 3 and compares the result with 0 (which is true if x is evenly divisible by 3).\n",
    "'''\n"
   ]
  },
  {
   "cell_type": "code",
   "execution_count": 19,
   "metadata": {
    "collapsed": false
   },
   "outputs": [
    {
     "name": "stdout",
     "output_type": "stream",
     "text": [
      "Result of Reduce :- 30\n",
      "Result of Reduce + Sum :- 30\n"
     ]
    },
    {
     "data": {
      "text/plain": [
       "'\\nSource --  http://www.secnetix.de/olli/Python/lambda_functions.hawk\\n#\\n\\n\\nreduce() is somewhat special. The \"worker function\" for this one must accept two arguments (we\\'ve called them x and y here),\\nnot just one. The function is called with the first two elements from the list, then with the result of that call and the third \\nelement, and so on, until all of the list elements have been handled. This means that our function is called n-1 times if \\nthe list contains n elements. The return value of the last call is the result of the reduce() construct. In the above example, \\nit simply adds the arguments, so we get the sum of all elements. (Note: since Python 2.3 there\\'s a built-in function sum()that\\ndoes the same thing more efficiently.)\\n\\n\\n'"
      ]
     },
     "execution_count": 19,
     "metadata": {},
     "output_type": "execute_result"
    }
   ],
   "source": [
    "#\n",
    "# REDUCE -- http://www.secnetix.de/olli/Python/lambda_functions.hawk\n",
    "#\n",
    "\n",
    "from functools import reduce \n",
    "\n",
    "MyRESULT=reduce((lambda x,y: x+y),MyList)\n",
    "print \"Result of Reduce :-\" , MyRESULT\n",
    "#\n",
    "\n",
    "# Alternative to REDUCE and LAMBDA for Addition is the SUM as below -- \n",
    "#\n",
    "\n",
    "MyRESULT1=sum(MyList)\n",
    "print \"Result of Reduce + Sum :-\" , MyRESULT1\n",
    "#\n",
    "\n",
    "\n",
    "#\n",
    "'''\n",
    "Source --  http://www.secnetix.de/olli/Python/lambda_functions.hawk\n",
    "#\n",
    "\n",
    "\n",
    "reduce() is somewhat special. The \"worker function\" for this one must accept two arguments (we've called them x and y here),\n",
    "not just one. The function is called with the first two elements from the list, then with the result of that call and the third \n",
    "element, and so on, until all of the list elements have been handled. This means that our function is called n-1 times if \n",
    "the list contains n elements. The return value of the last call is the result of the reduce() construct. In the above example, \n",
    "it simply adds the arguments, so we get the sum of all elements. (Note: since Python 2.3 there's a built-in function sum()that\n",
    "does the same thing more efficiently.)\n",
    "\n",
    "\n",
    "'''"
   ]
  },
  {
   "cell_type": "code",
   "execution_count": 20,
   "metadata": {
    "collapsed": false
   },
   "outputs": [
    {
     "name": "stdout",
     "output_type": "stream",
     "text": [
      "Result of MAP :- [22, 24, 26, 28]\n"
     ]
    },
    {
     "data": {
      "text/plain": [
       "'\\nSource --  http://www.secnetix.de/olli/Python/lambda_functions.hawk\\n#\\nmap() is used to convert our list. The given function is called for every element in the original list,\\nand a new list is created which contains the return values from our lambda function. In this case,\\nit computes 2 * x + 10 for every element.\\n\\n'"
      ]
     },
     "execution_count": 20,
     "metadata": {},
     "output_type": "execute_result"
    }
   ],
   "source": [
    "# FILTER , MAP and Reduce \n",
    "# MAP --  http://www.secnetix.de/olli/Python/lambda_functions.hawk\n",
    "#\n",
    "\n",
    "\n",
    "MyMappedList=map((lambda x: x * 2 + 10 ),MyList)\n",
    "print \"Result of MAP :-\" , MyMappedList\n",
    "#\n",
    "\n",
    "'''\n",
    "Source --  http://www.secnetix.de/olli/Python/lambda_functions.hawk\n",
    "#\n",
    "map() is used to convert our list. The given function is called for every element in the original list,\n",
    "and a new list is created which contains the return values from our lambda function. In this case,\n",
    "it computes 2 * x + 10 for every element.\n",
    "\n",
    "6 Becomes 12 and then 22 \n",
    "7 Becomes 14 and then 24 ...etc \n",
    "\n",
    "'''\n"
   ]
  },
  {
   "cell_type": "code",
   "execution_count": 29,
   "metadata": {
    "collapsed": false
   },
   "outputs": [
    {
     "name": "stdout",
     "output_type": "stream",
     "text": [
      "[2, 3, 5, 7, 11, 13, 17, 19, 23, 29, 31, 37, 41, 43, 47]\n"
     ]
    },
    {
     "data": {
      "text/plain": [
       "'\\nHow does it work? First, we put all numbers from 2 to 49 into a list called \"nums\". Then we have a \"for\" loop that iterates over \\nall possible divisors, i.e. the value of \"i\" goes from 2 to 7. Naturally, all numbers that are multiples of those divisors cannot \\nbe prime numbers, so we use a filter function to remove them from the list. (This algorithm is called \"the sieve of Eratosthenes\".)\\n\\nIn the above case, the filter function simply says: \"Leave the element in the list if it is equal to i, or if it leaves \\na non-zero remainder when divided by i. Otherwise remove it from the list.\" After the filtering loop finishes, only prime\\nnumbers are left, of course. I am not aware of a language in which you can do the same thing with built-in features as compact\\nand as readable as in Python (except for functional programming languages).\\n\\nNote: The range function simply returns a list containing the numbers from x to y-1. For example, range(5, 10) \\nreturns the list [5, 6, 7, 8, 9].\\n\\n\\n'"
      ]
     },
     "execution_count": 29,
     "metadata": {},
     "output_type": "execute_result"
    }
   ],
   "source": [
    "# FILTER Primary Nums \n",
    "\n",
    "nums = range(2, 50) \n",
    "for i in range(2, 8): \n",
    "        nums = filter(lambda x: x == i or x % i, nums)\n",
    "        #Pnums=filter((lambda x: x == i or x % i), nums) # Doesnt Work Why ? --Above it worked with FILTER------- TBD \n",
    "print nums\n",
    "\n",
    "#\n",
    "\n",
    "'''\n",
    "Source --  http://www.secnetix.de/olli/Python/lambda_functions.hawk\n",
    "#\n",
    "\n",
    "\n",
    "How does it work? First, we put all numbers from 2 to 49 into a list called \"nums\". Then we have a \"for\" loop that iterates over \n",
    "all possible divisors, i.e. the value of \"i\" goes from 2 to 7. Naturally, all numbers that are multiples of those divisors cannot \n",
    "be prime numbers, so we use a filter function to remove them from the list. (This algorithm is called \"the sieve of Eratosthenes\".)\n",
    "\n",
    "In the above case, the filter function simply says: \"Leave the element in the list if it is equal to i, or if it leaves \n",
    "a non-zero remainder when divided by i. Otherwise remove it from the list.\" After the filtering loop finishes, only prime\n",
    "numbers are left, of course. I am not aware of a language in which you can do the same thing with built-in features as compact\n",
    "and as readable as in Python (except for functional programming languages).\n",
    "\n",
    "Note: The range function simply returns a list containing the numbers from x to y-1. For example, range(5, 10) \n",
    "returns the list [5, 6, 7, 8, 9].\n",
    "\n",
    "\n",
    "'''"
   ]
  },
  {
   "cell_type": "code",
   "execution_count": 31,
   "metadata": {
    "collapsed": false
   },
   "outputs": [
    {
     "name": "stdout",
     "output_type": "stream",
     "text": [
      "['It', 'is', 'raining', 'cats', 'and', 'dogs']\n",
      "[2, 2, 7, 4, 3, 4]\n",
      " One line Code of above Function________________________\n",
      "[2, 2, 7, 4, 3, 4]\n"
     ]
    }
   ],
   "source": [
    "# MAP Length of Words in a Sentence \n",
    "#\n",
    "\n",
    "\n",
    "sentence = 'It is raining cats and dogs'\n",
    "words = sentence.split()\n",
    "print words\n",
    "\n",
    "lengths = map(lambda word: len(word), words)\n",
    "print lengths\n",
    "\n",
    "\n",
    "'''\n",
    "Source --  http://www.secnetix.de/olli/Python/lambda_functions.hawk\n",
    "#\n",
    "\n",
    "Above example, a sentence is split up into a list of words, then a list is created that contains the length of each word.\n",
    "\n",
    "I think it doesn't need any further explanation, the code is practically self-documenting.\n",
    "\n",
    "Of course, it could all be written in one single statement. Admittedly, this is somewhat less readable (not much, though).\n",
    "\n",
    "'''\n",
    "\n",
    "\n",
    "print \" One line Code of above Function________________________\"\n",
    "print map(lambda w: len(w), 'It is raining cats and dogs'.split())\n",
    "\n"
   ]
  },
  {
   "cell_type": "code",
   "execution_count": 32,
   "metadata": {
    "collapsed": false
   },
   "outputs": [
    {
     "name": "stdout",
     "output_type": "stream",
     "text": [
      "[0, 1, 4, 9, 16, 25, 36, 49, 64, 81]\n",
      "[1, 2, 4, 8, 16, 32, 64, 128, 256, 512, 1024, 2048, 4096]\n",
      "[0, 4, 16, 36, 64]\n"
     ]
    }
   ],
   "source": [
    "# List Comprehensions \n",
    "# Source -- http://www.secnetix.de/olli/Python/list_comprehensions.hawk\n",
    "#\n",
    "\n",
    "\n",
    "S = [x**2 for x in range(10)]\n",
    "V = [2**i for i in range(13)] # List of  12 Elements - all x,x*2 values ......\n",
    "M = [x for x in S if x % 2 == 0]\n",
    "\n",
    "print S; print V; print M"
   ]
  }
 ],
 "metadata": {
  "anaconda-cloud": {},
  "kernelspec": {
   "display_name": "Python [default]",
   "language": "python",
   "name": "python2"
  },
  "language_info": {
   "codemirror_mode": {
    "name": "ipython",
    "version": 2
   },
   "file_extension": ".py",
   "mimetype": "text/x-python",
   "name": "python",
   "nbconvert_exporter": "python",
   "pygments_lexer": "ipython2",
   "version": "2.7.12"
  }
 },
 "nbformat": 4,
 "nbformat_minor": 0
}
